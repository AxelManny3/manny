{
  "nbformat": 4,
  "nbformat_minor": 0,
  "metadata": {
    "colab": {
      "provenance": [],
      "authorship_tag": "ABX9TyNNp2/RjzjfTqUYhUrB16A0",
      "include_colab_link": true
    },
    "kernelspec": {
      "name": "python3",
      "display_name": "Python 3"
    },
    "language_info": {
      "name": "python"
    }
  },
  "cells": [
    {
      "cell_type": "markdown",
      "metadata": {
        "id": "view-in-github",
        "colab_type": "text"
      },
      "source": [
        "<a href=\"https://colab.research.google.com/github/AxelManny3/manny/blob/main/primertema.ipynb\" target=\"_parent\"><img src=\"https://colab.research.google.com/assets/colab-badge.svg\" alt=\"Open In Colab\"/></a>"
      ]
    },
    {
      "cell_type": "markdown",
      "source": [
        "**Lenguaje y Algoritmo**\n",
        "\n",
        "Lenguaje de programasion:\n",
        "\n",
        "* C\n",
        "* c++\n",
        "* Java\n",
        "* Fortran\n",
        "* delphi\n",
        "\n",
        "**Algoritmo**\n",
        "\n",
        "conjunto de pasos, procedimientos o acciones que nos permiten alcanzar un resultado\n",
        "\n",
        "Caracteristicas:\n",
        "\n",
        "Determinismo.\n",
        "Presicion.\n",
        "Finitud.\n",
        "\n",
        "(Cairo et al. , 1993)\n",
        "\n",
        "**Datos**\n",
        "\n",
        "Valores enteros y valores reales.\n",
        "Valores enteros pueden estrar procedidos por nlos signos ( + -)\n",
        "\n",
        "128 152s -714 8 530 -14 789\n",
        "7,5 128.0  -37.865  129.7   16 000.50\n",
        "\n",
        "**Datos Alfanumericos**\n",
        "*Caracter\n",
        "*Cadena\n",
        "\n",
        "\n",
        "(a,b,c...z)\n",
        "(0, 1, 2, 3...9)\n",
        "(#, ?, $, %, *, etc)\n",
        "\n",
        "'a' 'B' '$' '9'  \"Hectoooor\"\n",
        "\n",
        "\"abc\"  \"$9#7\" \"Heeeectoooor\" \"pactroclo!!!\" \"754-27-22\"\n",
        "\n",
        "**Datos logicos**\n",
        "booleanos\n",
        "Verdadero (true)\n",
        "Falso     (falso)\n"
      ],
      "metadata": {
        "id": "AKz5araSD0IW"
      }
    },
    {
      "cell_type": "code",
      "source": [
        "#tipos de variables en python\n",
        "#El tipo de variable estara determinado por el tipo de datos que almacena\n",
        "#Enteros: vasta agregar un valor eterno\n",
        "\n",
        "a=10\n",
        "b=11\n",
        "\n",
        "\n",
        "\n",
        "#Decimales: deben agregarse un numero con punto flotante\n",
        "c=3.1416\n",
        "\n",
        "\n",
        "#booleamos: Datos con verdaderos y false\n",
        "#Se pueden usar palabras: trus y false\n",
        "\n",
        "verdad = 1\n",
        "Falso = 0\n",
        "\n",
        "# Texto o cadena o string\n",
        "saludo = \"Hola Mundo\"\n",
        "nombre = \"Juan\"\n",
        "\n",
        "uno = \"a\"\n",
        "dos = \"b\""
      ],
      "metadata": {
        "colab": {
          "base_uri": "https://localhost:8080/"
        },
        "id": "syY1GoVELvUz",
        "outputId": "48d1b0f7-f2f7-4e8a-d9f7-6741ffc704b8"
      },
      "execution_count": null,
      "outputs": [
        {
          "output_type": "stream",
          "name": "stdout",
          "text": [
            "10\n"
          ]
        }
      ]
    }
  ]
}